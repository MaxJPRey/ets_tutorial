{
 "cells": [
  {
   "cell_type": "markdown",
   "id": "2a6239cd",
   "metadata": {
    "slideshow": {
     "slide_type": "slide"
    }
   },
   "source": [
    "## Sharing scientific tools: script to desktop application\n",
    "\n",
    "### TraitsUI\n",
    "\n",
    "**Jonathan Rocher, Siddhant Wahal, Jason Chambless, Corran Webster, Prabhu Ramachandran**\n",
    "\n",
    "**SciPy 2022**\n"
   ]
  },
  {
   "cell_type": "markdown",
   "id": "adea5ec8",
   "metadata": {
    "slideshow": {
     "slide_type": "slide"
    }
   },
   "source": [
    "## TraitsUI: Easy GUI building\n",
    "\n",
    "- Meant for traits\n",
    "- Declarative UI\n",
    "- Interoperates with Qt and wxPython\n",
    "- Docs: https://docs.enthought.com/traitsui\n",
    "- GH: https://github.com/enthought/traitsui\n"
   ]
  },
  {
   "cell_type": "markdown",
   "id": "3dc33099",
   "metadata": {
    "slideshow": {
     "slide_type": "slide"
    }
   },
   "source": [
    "## Approach\n",
    "\n",
    "- Just declare what needs to be done\n",
    "- Do not need to write a lot of code\n",
    "- Embed 2D plots with `matplotlib` or `chaco`\n",
    "- Embed 3D plots with `mayavi`\n",
    "- Build rich scientific dialogs\n"
   ]
  },
  {
   "cell_type": "markdown",
   "id": "547fc5eb",
   "metadata": {
    "slideshow": {
     "slide_type": "slide"
    }
   },
   "source": [
    "## Model-View-Controller (MVC) design pattern\n",
    "\n",
    "- Model: manages data, state, and internal logic\n",
    "- View: presents the model in a graphically interactive way\n",
    "- Controller: manages information between view and model\n",
    "\n",
    "<br/>\n",
    "\n",
    "- For simple cases, View and Controller may be the same\n"
   ]
  },
  {
   "cell_type": "markdown",
   "id": "1598aebc",
   "metadata": {
    "lines_to_next_cell": 2,
    "slideshow": {
     "slide_type": "slide"
    }
   },
   "source": [
    "## MVC with traitsui\n",
    "\n",
    "- Model: `HasStrictTraits` object\n",
    "- View: `traitsui`,  `View` class\n",
    "- Controller: `traitsui` `Handler` class\n"
   ]
  },
  {
   "cell_type": "markdown",
   "id": "903c056f",
   "metadata": {
    "slideshow": {
     "slide_type": "slide"
    }
   },
   "source": [
    "## Views\n",
    "\n",
    "- A declarative specification for a GUI\n",
    "- Made up of `Item` and `Group` objects\n"
   ]
  },
  {
   "cell_type": "markdown",
   "id": "0b8970e5",
   "metadata": {
    "slideshow": {
     "slide_type": "slide"
    }
   },
   "source": [
    "## Simple example\n"
   ]
  },
  {
   "cell_type": "code",
   "execution_count": null,
   "id": "c2132490",
   "metadata": {},
   "outputs": [],
   "source": [
    "from traits.api import HasStrictTraits, Int, Str, Enum, Bool\n",
    "\n",
    "class Person(HasStrictTraits):\n",
    "    name = Str\n",
    "    age = Int\n",
    "    handedness = Enum('left', 'right')\n",
    "    drinks = Bool(False)\n"
   ]
  },
  {
   "cell_type": "code",
   "execution_count": null,
   "id": "1551d751",
   "metadata": {},
   "outputs": [],
   "source": [
    "%gui qt"
   ]
  },
  {
   "cell_type": "code",
   "execution_count": null,
   "id": "93acd631",
   "metadata": {},
   "outputs": [],
   "source": [
    "p = Person(name='Worf')\n",
    "p.edit_traits()"
   ]
  },
  {
   "cell_type": "markdown",
   "id": "5d150cf5",
   "metadata": {
    "slideshow": {
     "slide_type": "slide"
    }
   },
   "source": [
    "## Specifying a View\n",
    "\n"
   ]
  },
  {
   "cell_type": "code",
   "execution_count": null,
   "id": "b2de723d",
   "metadata": {},
   "outputs": [],
   "source": [
    "from traitsui.api import Item, View\n",
    "view1 = View(\n",
    "    Item(name='name', style='readonly'),\n",
    "    Item(name='age'),\n",
    "    Item(name='handedness'),\n",
    "    Item(name='drinks', visible_when='age >= 18'),\n",
    ")"
   ]
  },
  {
   "cell_type": "code",
   "execution_count": null,
   "id": "51d3c33a",
   "metadata": {},
   "outputs": [],
   "source": [
    "p.edit_traits(view=view1)"
   ]
  },
  {
   "cell_type": "markdown",
   "id": "d66c18f0",
   "metadata": {
    "slideshow": {
     "slide_type": "slide"
    }
   },
   "source": [
    "## Common attributes of `Item`\n",
    "\n",
    "- `label`: UI label instead of the name\n",
    "- `show_label`: Bool\n",
    "- `tooltip`/`help`: Str\n",
    "- `editor`: `ItemEditor` to use\n",
    "- `style`: `{'simple', custom', 'text', 'readonly'}`\n",
    "- `enabled_when`, `visible_when`, `defined_when`: Python expression\n",
    "- `resizable`: bool\n"
   ]
  },
  {
   "cell_type": "markdown",
   "id": "07c17f27",
   "metadata": {
    "slideshow": {
     "slide_type": "slide"
    }
   },
   "source": [
    "## Groups\n",
    "\n",
    "- Handy for complex UIs\n",
    "- Common attributes:\n",
    "   - `columns`\n",
    "   - `label`\n",
    "   - `layout`: `{'normal', 'flow', 'split', 'tabbed'}`\n",
    "   - `orientation`: ` {'vertical', 'horizontal'}`\n",
    "   - `show_border`: bool\n",
    "   - `enabled_when`, `visible_when`, `defined_when`: Python expression\n",
    "- `HGroup`, `VGroup`, `HSplit`, `VSplit`, `Tabbed`: shortcuts\n"
   ]
  },
  {
   "cell_type": "markdown",
   "id": "e5467eeb",
   "metadata": {
    "slideshow": {
     "slide_type": "slide"
    }
   },
   "source": [
    "## A simpler way\n"
   ]
  },
  {
   "cell_type": "code",
   "execution_count": null,
   "id": "2be6ebbf",
   "metadata": {},
   "outputs": [],
   "source": [
    "from traitsui.api import Group\n",
    "\n",
    "class Person(HasStrictTraits):\n",
    "    name = Str\n",
    "    age = Int\n",
    "    handedness = Enum('left', 'right')\n",
    "\n",
    "    traits_view = View(\n",
    "      Group(\n",
    "        Item(name='name'),\n",
    "        Item(name='age'),\n",
    "        Item(name='handedness'),\n",
    "        label='Person profile',\n",
    "        show_border=True\n",
    "      )\n",
    "    )"
   ]
  },
  {
   "cell_type": "code",
   "execution_count": null,
   "id": "cfb0aa25",
   "metadata": {},
   "outputs": [],
   "source": [
    "p = Person(name='Worf', age=20)\n",
    "p.edit_traits()"
   ]
  },
  {
   "cell_type": "code",
   "execution_count": null,
   "id": "89045589",
   "metadata": {},
   "outputs": [],
   "source": []
  },
  {
   "cell_type": "markdown",
   "id": "78af2189",
   "metadata": {
    "slideshow": {
     "slide_type": "slide"
    }
   },
   "source": [
    "## View attributes\n",
    "\n",
    "- `dock`: `{'fixed', 'horizontal', 'vertical', 'tabbed'}`\n",
    "- `height`/`width`: int\n",
    "- `icon`/`image`\n",
    "- `resizable`: bool\n",
    "- `scrollable`: bool\n",
    "- `title`: name of the window\n",
    "- `buttons`\n",
    "- `key_bindings`\n",
    "- See docs for more: https://docs.enthought.com/traitsui/traitsui_user_manual/\n"
   ]
  },
  {
   "cell_type": "markdown",
   "id": "c9554af8",
   "metadata": {
    "slideshow": {
     "slide_type": "slide"
    }
   },
   "source": [
    "## Simple example"
   ]
  },
  {
   "cell_type": "code",
   "execution_count": null,
   "id": "257c8652",
   "metadata": {
    "lines_to_next_cell": 2
   },
   "outputs": [],
   "source": [
    "from traitsui.api import CancelButton, OKButton\n",
    "\n",
    "class Person(HasStrictTraits):\n",
    "    name = Str\n",
    "    age = Int\n",
    "    likes_queso = Bool\n",
    "    handedness = Enum('left', 'right')\n",
    "\n",
    "    traits_view = View(\n",
    "      Group(\n",
    "        Item(name='name'),\n",
    "        Item(name='age'),\n",
    "        Item(name='handedness'),\n",
    "        label='Person profile',\n",
    "        show_border=True,\n",
    "      ),\n",
    "      buttons=[OKButton, CancelButton]\n",
    "    )"
   ]
  },
  {
   "cell_type": "code",
   "execution_count": null,
   "id": "139492bc",
   "metadata": {},
   "outputs": [],
   "source": [
    "p = Person(name='Worf', age=20)\n",
    "p.edit_traits()"
   ]
  },
  {
   "cell_type": "markdown",
   "id": "6b673e70",
   "metadata": {
    "slideshow": {
     "slide_type": "slide"
    }
   },
   "source": [
    "## Specifying an editor\n",
    "\n",
    "- Editors: encapsulate display instructions for a trait type\n",
    "    - Hide GUI-toolkit code behind an abstraction layer\n",
    "    - All standard traits has a predefined editor that is automatically\n",
    "      displayed when the trait is displayed, unless overridden"
   ]
  },
  {
   "cell_type": "markdown",
   "id": "dff99b18",
   "metadata": {
    "slideshow": {
     "slide_type": "slide"
    }
   },
   "source": [
    "## Examples\n",
    "\n",
    "This code automatically uses `StrEditor`, the default for `Str` traits:"
   ]
  },
  {
   "cell_type": "code",
   "execution_count": null,
   "id": "dbfeeb5c",
   "metadata": {
    "lines_to_next_cell": 0
   },
   "outputs": [],
   "source": [
    "class Stringy(HasStrictTraits):\n",
    "    characters = Str()\n",
    "\n",
    "s = Stringy(characters='<b>Stringy characters</b>')\n",
    "s.edit_traits(\n",
    "    view=View(\n",
    "        Item(\"characters\")\n",
    "    )\n",
    ")"
   ]
  },
  {
   "cell_type": "markdown",
   "id": "bf881140",
   "metadata": {
    "lines_to_next_cell": 0,
    "slideshow": {
     "slide_type": "slide"
    }
   },
   "source": [
    "This code uses an HTMLEditor:"
   ]
  },
  {
   "cell_type": "code",
   "execution_count": null,
   "id": "1a564b42",
   "metadata": {},
   "outputs": [],
   "source": [
    "from traitsui.api import HTMLEditor\n",
    "s.edit_traits(\n",
    "    view=View(\n",
    "        Item(\"characters\", editor=HTMLEditor())\n",
    "    )\n",
    ")"
   ]
  },
  {
   "cell_type": "markdown",
   "id": "ea5d9fb6",
   "metadata": {
    "slideshow": {
     "slide_type": "slide"
    }
   },
   "source": [
    "\n",
    "## A few useful editors\n",
    "- We illustrate the powerful `InstanceEditor` here\n",
    "- Consider the following\n"
   ]
  },
  {
   "cell_type": "code",
   "execution_count": null,
   "id": "af9ff270",
   "metadata": {},
   "outputs": [],
   "source": [
    "from traits.api import Instance\n",
    "\n",
    "class Person(HasStrictTraits):\n",
    "    name = Str\n",
    "    age = Int\n",
    "    handedness = Enum('left', 'right')\n",
    "    bff = Instance('Person')  # Notice the quotes.\n",
    "\n",
    "    traits_view = View(\n",
    "      Group(\n",
    "        Item(name='name'),\n",
    "        Item(name='age'),\n",
    "        Item(name='handedness'),\n",
    "        Item(name='bff', style='custom'),\n",
    "        label='Person profile',\n",
    "      )\n",
    "    )"
   ]
  },
  {
   "cell_type": "code",
   "execution_count": null,
   "id": "dd2e6938",
   "metadata": {
    "lines_to_next_cell": 0
   },
   "outputs": [],
   "source": [
    "frodo = Person(name='Frodo', age=30)\n",
    "sam = Person(name='Sam', age=29, bff=frodo)"
   ]
  },
  {
   "cell_type": "code",
   "execution_count": null,
   "id": "190ec815",
   "metadata": {},
   "outputs": [],
   "source": [
    "sam.edit_traits()"
   ]
  },
  {
   "cell_type": "markdown",
   "id": "e6a69344",
   "metadata": {
    "slideshow": {
     "slide_type": "slide"
    }
   },
   "source": [
    "## Discussion\n",
    "\n",
    "- Note the embedding\n",
    "- Implicitly uses an InstanceEditor\n",
    "- Can configure the view it uses if needed\n"
   ]
  },
  {
   "cell_type": "code",
   "execution_count": null,
   "id": "11c09ed3",
   "metadata": {},
   "outputs": [],
   "source": [
    "from traitsui.api import InstanceEditor\n",
    "\n",
    "bff_view = View(Group(\n",
    "        Item(name='name'),\n",
    "        Item(name='age'),\n",
    "        Item(name='handedness'),\n",
    "        label='BFF',\n",
    "        )\n",
    "    )"
   ]
  },
  {
   "cell_type": "code",
   "execution_count": null,
   "id": "7548d32b",
   "metadata": {
    "lines_to_next_cell": 2,
    "slideshow": {
     "slide_type": "slide"
    }
   },
   "outputs": [],
   "source": [
    "class Person(HasStrictTraits):\n",
    "    name = Str\n",
    "    age = Int\n",
    "    handedness = Enum('left', 'right')\n",
    "    bff = Instance('Person')\n",
    "\n",
    "    traits_view = View(\n",
    "      Group(\n",
    "        Item(name='name'),\n",
    "        Item(name='age'),\n",
    "        Item(name='handedness'),\n",
    "        Item(name='bff', style='custom', show_label=False,\n",
    "             editor=InstanceEditor(view=bff_view)),\n",
    "        label='Person profile',\n",
    "      )\n",
    "    )"
   ]
  },
  {
   "cell_type": "code",
   "execution_count": null,
   "id": "7e52a3b5",
   "metadata": {
    "lines_to_next_cell": 0
   },
   "outputs": [],
   "source": [
    "frodo = Person(name='Frodo', age=30)\n",
    "sam = Person(name='Sam', age=29, bff=frodo)"
   ]
  },
  {
   "cell_type": "code",
   "execution_count": null,
   "id": "10a32f0d",
   "metadata": {},
   "outputs": [],
   "source": [
    "sam.edit_traits()"
   ]
  },
  {
   "cell_type": "markdown",
   "id": "d424c3c5",
   "metadata": {
    "slideshow": {
     "slide_type": "slide"
    }
   },
   "source": [
    "- Another useful editor allows us to interface with `DataFrame`s"
   ]
  },
  {
   "cell_type": "code",
   "execution_count": null,
   "id": "881af927",
   "metadata": {},
   "outputs": [],
   "source": [
    "import pandas as pd\n",
    "from traits.api import Event, Instance, Int \n",
    "from traitsui.api import ModelView\n",
    "from traitsui.ui_editors.data_frame_editor import DataFrameEditor\n",
    "\n",
    "class FramedData(HasStrictTraits):\n",
    "    data = Instance(pd.DataFrame)\n",
    "\n",
    "    def _data_default(self):\n",
    "        return pd.DataFrame([\n",
    "            {'A': 5, 'B': 0, 'C': 3, 'D': 3},\n",
    "            {'A': 7, 'B': 9, 'C': 3, 'D': 5},\n",
    "            {'A': 2, 'B': 4, 'C': 7, 'D': 6}\n",
    "        ])\n",
    "\n",
    "class FramedDataView(ModelView):\n",
    "    model = Instance(FramedData)\n",
    "\n",
    "    view = View(\n",
    "        Item(\"model.data\", editor=DataFrameEditor(editable=True))\n",
    "    )\n",
    "\n",
    "FramedDataView(model=FramedData()).edit_traits()"
   ]
  },
  {
   "cell_type": "markdown",
   "id": "710488f9",
   "metadata": {
    "slideshow": {
     "slide_type": "slide"
    }
   },
   "source": [
    "## Enter plotting\n",
    "- Another useful editor is the `MplFigureEditor`\n",
    "- Allows interacting with `matplotlib.figure.Figure` instances\n",
    "- Included in the `ets_tutorial` package bundled in this repository"
   ]
  },
  {
   "cell_type": "markdown",
   "id": "53e45dde",
   "metadata": {
    "lines_to_next_cell": 0,
    "slideshow": {
     "slide_type": "slide"
    }
   },
   "source": [
    "Example:"
   ]
  },
  {
   "cell_type": "code",
   "execution_count": null,
   "id": "8d1eb3f5",
   "metadata": {
    "lines_to_next_cell": 0
   },
   "outputs": [],
   "source": [
    "from matplotlib.figure import Figure\n",
    "import numpy as np\n",
    "from skimage.data import chelsea\n",
    "from traits.api import Array, HasStrictTraits, Instance\n",
    "from traitsui.api import View, Item\n",
    "\n",
    "from ets_tutorial.util.mpl_figure_editor import MplFigureEditor\n",
    "\n",
    "class ImageViewer(HasStrictTraits):\n",
    "    data = Array()\n",
    "\n",
    "    figure = Instance(Figure)\n",
    "\n",
    "    traits_view = View(\n",
    "        Item(\"figure\", editor=MplFigureEditor(), show_label=False)\n",
    "    )\n",
    "\n",
    "    def _data_default(self):\n",
    "        return chelsea()\n",
    "\n",
    "    def _figure_default(self):\n",
    "        figure = Figure()\n",
    "        axes = figure.add_subplot(111)\n",
    "        axes.imshow(chelsea())\n",
    "        return figure\n",
    "\n",
    "ImageViewer().edit_traits()"
   ]
  },
  {
   "cell_type": "markdown",
   "id": "389f0064",
   "metadata": {
    "slideshow": {
     "slide_type": "slide"
    }
   },
   "source": [
    "## The ModelView object:\n",
    "- We want our science model to be free of UI code\n",
    "- But it's still useful for models and views to respond to changes to one\n",
    "  another -- `ModelView`s \n",
    "- `ModelView`s also monitor UI toolkit events like window creation,\n",
    "  closing, user clicking OK or Cancel buttons\n",
    "- Example:"
   ]
  },
  {
   "cell_type": "code",
   "execution_count": null,
   "id": "bbaa7698",
   "metadata": {},
   "outputs": [],
   "source": [
    "from traits.api import observe\n",
    "class Image(HasStrictTraits):\n",
    "    data = Array()\n",
    "\n",
    "    def _data_default(self):\n",
    "        return chelsea()\n",
    "\n",
    "class ImageView(ModelView):\n",
    "    model = Instance(Image)\n",
    "\n",
    "    figure = Instance(Figure)\n",
    "\n",
    "    view = View(\n",
    "        Item(\"figure\", editor=MplFigureEditor(), show_label=False)\n",
    "    )\n",
    "\n",
    "    @observe(\"model.data\")\n",
    "    def build_mpl_figure(self, event):\n",
    "        figure = Figure()\n",
    "        axes = figure.add_subplot(111)\n",
    "        axes.imshow(self.model.data)\n",
    "        self.figure = figure\n"
   ]
  },
  {
   "cell_type": "code",
   "execution_count": null,
   "id": "25cf1c10",
   "metadata": {},
   "outputs": [],
   "source": [
    "image = Image()\n",
    "image_view = ImageView(model=image)\n",
    "image_view.edit_traits()"
   ]
  },
  {
   "cell_type": "code",
   "execution_count": null,
   "id": "9307e16c",
   "metadata": {},
   "outputs": [],
   "source": [
    "from skimage.data import astronaut\n",
    "image.data = astronaut()"
   ]
  },
  {
   "cell_type": "markdown",
   "id": "07c09986",
   "metadata": {
    "lines_to_next_cell": 0,
    "slideshow": {
     "slide_type": "slide"
    }
   },
   "source": [
    "## Exercise time!\n",
    "- Starting from where we left off in Stage 2.1:\n",
    "    - Create a `ModelView` for the `ImageFile` object that displays its filepath\n",
    "      (readonly), and the image array in a matplotlib figure\n",
    "        - Ensure figure is updated if the `filepath` attribute of `ImageFile` is\n",
    "          modified\n",
    "    - Create a `ModelView` for the `ImageFolder` object that displays the directory\n",
    "      (readonly) and the `DataFrame`\n",
    "    - Bonus points:\n",
    "        - What mechanism would we use to hide the `DataFrame` if the directory doesn't have any images\n",
    "          and instead show a helpful message? \n",
    "        - Hint: keyword arguments for `Item`"
   ]
  },
  {
   "cell_type": "markdown",
   "id": "ff18f817",
   "metadata": {
    "lines_to_next_cell": 0,
    "slideshow": {
     "slide_type": "slide"
    }
   },
   "source": [
    "## Solution\n"
   ]
  },
  {
   "cell_type": "markdown",
   "id": "fef295a6",
   "metadata": {},
   "source": [
    "## Toolkit selection\n",
    "\n",
    "- TraitsUI supports: Qt or wxPython\n",
    "- Can set the toolkit in a program\n",
    "    - 'qt' or 'qt4'\n",
    "    - 'wx'\n",
    "    - 'null'\n",
    "- Or with the `ETS_TOOLKIT` environment variable\n",
    "\n",
    "```\n",
    "export ETS_TOOLKIT=qt\n",
    "```\n",
    "\n",
    "<!-- #endregion -->"
   ]
  },
  {
   "cell_type": "code",
   "execution_count": null,
   "id": "be3ed234",
   "metadata": {
    "lines_to_next_cell": 2
   },
   "outputs": [],
   "source": [
    "from traits.etsconfig.api import ETSConfig\n",
    "ETSConfig.toolkit = 'qt'"
   ]
  },
  {
   "cell_type": "markdown",
   "id": "c807d778",
   "metadata": {
    "slideshow": {
     "slide_type": "slide"
    }
   },
   "source": [
    "## Other documentation\n",
    "\n",
    "- Interesting tutorial: https://docs.enthought.com/traitsui/tutorials\n"
   ]
  },
  {
   "cell_type": "markdown",
   "id": "68520cb7",
   "metadata": {
    "slideshow": {
     "slide_type": "slide"
    }
   },
   "source": [
    "## Exercise:\n",
    "\n",
    "\n"
   ]
  }
 ],
 "metadata": {
  "jupytext": {
   "formats": "ipynb,md"
  },
  "kernelspec": {
   "display_name": "Python 3",
   "language": "python",
   "name": "python3"
  }
 },
 "nbformat": 4,
 "nbformat_minor": 5
}
