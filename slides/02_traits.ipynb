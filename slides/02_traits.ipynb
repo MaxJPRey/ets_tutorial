{
 "cells": [
  {
   "cell_type": "markdown",
   "id": "80c778c8",
   "metadata": {
    "slideshow": {
     "slide_type": "slide"
    }
   },
   "source": [
    "## Step1: Using Traits\n",
    "\n",
    "**Jonathan Rocher, Siddhant Wahal, Jason Chambless, Prabhu Ramachandran**\n",
    "\n",
    "**SciPy 2022**\n"
   ]
  },
  {
   "cell_type": "markdown",
   "id": "3592ddc1",
   "metadata": {
    "slideshow": {
     "slide_type": "slide"
    }
   },
   "source": [
    "## Introduction to Traits\n",
    "\n",
    "- **trait**: Python object attribute with additional characteristics\n",
    "    - Typed attributes\n",
    "    - Reactive\n",
    "    - Observable\n",
    "    - Cleaner code\n",
    "    - Easy UI\n",
    "\n",
    "<br/>\n",
    "\n",
    "- https://docs.enthought.com/traits/\n",
    "- https://github.com/enthought/traits/\n"
   ]
  },
  {
   "cell_type": "markdown",
   "id": "20d20314",
   "metadata": {
    "slideshow": {
     "slide_type": "slide"
    }
   },
   "source": [
    "## Why all this?\n",
    "\n",
    "- No pain, no gain! (Only a little pain, we promise!)\n",
    "\n",
    "- Small change to thinking yields big benefits\n",
    "\n",
    "- Do not mix GUI code with core model\n",
    "\n",
    "- Build a clean model first\n",
    "\n",
    "  - Easier to understand/maintain\n",
    "  - Separation of concerns\n",
    "  - Easier to test\n",
    "  - Generally better reuse\n"
   ]
  },
  {
   "cell_type": "markdown",
   "id": "c838455c",
   "metadata": {
    "slideshow": {
     "slide_type": "slide"
    }
   },
   "source": [
    "## Trait features\n",
    "\n",
    "- Initialization: default value\n",
    "- Validation: strongly typed\n",
    "- Deferral/Delegation: value delegation\n",
    "- Notification: events\n",
    "- Visualization: MVC, automatic GUI!\n"
   ]
  },
  {
   "cell_type": "markdown",
   "id": "0eb9feed",
   "metadata": {
    "slideshow": {
     "slide_type": "slide"
    }
   },
   "source": [
    "## An example\n"
   ]
  },
  {
   "cell_type": "code",
   "execution_count": null,
   "id": "8c547dbe",
   "metadata": {},
   "outputs": [],
   "source": [
    "from traits.api import Delegate, HasStrictTraits, Instance, Int, Str, observe\n",
    "\n",
    "class Parent(HasStrictTraits):\n",
    "    # INITIALIZATION: 'last_name' initialized to ''\n",
    "    last_name = Str('')\n"
   ]
  },
  {
   "cell_type": "code",
   "execution_count": null,
   "id": "38748687",
   "metadata": {},
   "outputs": [],
   "source": [
    "class Child(HasStrictTraits):\n",
    "    age = Int\n",
    "    # VALIDATION: 'father' must be Parent instance\n",
    "    father = Instance(Parent)\n",
    "    # DELEGATION: 'last_name' delegated to father's\n",
    "    last_name = Delegate('father')\n",
    "    # NOTIFICATION: Method called when 'age' changes\n",
    "    def _age_changed(self, old, new):\n",
    "        print('Age changed from %s to %s ' % (old, new))\n"
   ]
  },
  {
   "cell_type": "markdown",
   "id": "7202bbdb",
   "metadata": {
    "slideshow": {
     "slide_type": "slide"
    }
   },
   "source": [
    "## Using this\n"
   ]
  },
  {
   "cell_type": "code",
   "execution_count": null,
   "id": "2a4c3825",
   "metadata": {},
   "outputs": [],
   "source": [
    "joe = Parent()\n",
    "joe.last_name = 'Johnson'\n",
    "moe = Child()\n",
    "moe.father = joe"
   ]
  },
  {
   "cell_type": "code",
   "execution_count": null,
   "id": "bb469352",
   "metadata": {},
   "outputs": [],
   "source": [
    "# Delegation\n",
    "moe.last_name"
   ]
  },
  {
   "cell_type": "code",
   "execution_count": null,
   "id": "34ebc9f7",
   "metadata": {},
   "outputs": [],
   "source": [
    "# Notification\n",
    "moe.age = 10"
   ]
  },
  {
   "cell_type": "code",
   "execution_count": null,
   "id": "8acf77fd",
   "metadata": {},
   "outputs": [],
   "source": [
    "# Validation\n",
    "moe.age = '1'"
   ]
  },
  {
   "cell_type": "code",
   "execution_count": null,
   "id": "160c5cff",
   "metadata": {},
   "outputs": [],
   "source": [
    "# Visualization\n",
    "moe.configure_traits()"
   ]
  },
  {
   "cell_type": "markdown",
   "id": "66c13032",
   "metadata": {},
   "source": [
    "- Live editing!"
   ]
  },
  {
   "cell_type": "code",
   "execution_count": null,
   "id": "f80c023b",
   "metadata": {},
   "outputs": [],
   "source": [
    "%gui qt"
   ]
  },
  {
   "cell_type": "code",
   "execution_count": null,
   "id": "21b7db21",
   "metadata": {},
   "outputs": [],
   "source": [
    "moe.edit_traits()"
   ]
  },
  {
   "cell_type": "code",
   "execution_count": null,
   "id": "c83bc5a8",
   "metadata": {},
   "outputs": [],
   "source": [
    "moe.age = 21"
   ]
  },
  {
   "cell_type": "markdown",
   "id": "fd22ce8e",
   "metadata": {
    "slideshow": {
     "slide_type": "slide"
    }
   },
   "source": [
    "## What if you want to override `__init__`?\n"
   ]
  },
  {
   "cell_type": "code",
   "execution_count": null,
   "id": "1b519879",
   "metadata": {
    "lines_to_next_cell": 2
   },
   "outputs": [],
   "source": [
    "class Child(HasStrictTraits):\n",
    "    age = Int\n",
    "    father = Instance(Parent)\n",
    "    last_name = Delegate('father')\n",
    "\n",
    "    def __init__(self, **traits):\n",
    "        super(HasStrictTraits, self).__init__(**traits)\n",
    "\n",
    "    def _age_changed(self, old, new):\n",
    "        print('Age changed from %s to %s ' % (old, new))"
   ]
  },
  {
   "cell_type": "markdown",
   "id": "1a0144fa",
   "metadata": {
    "slideshow": {
     "slide_type": "slide"
    }
   },
   "source": [
    "## Predefined trait types\n",
    "\n",
    "- Standard: `Bool, Complex, Int, Float, Str, Tuple, List, Dict`\n",
    "- Constrained: `Range, Regex, Expression, ReadOnly`\n",
    "- Special: `Date, Either/Union, Enum, Array, File, Color, Font, Button`\n",
    "- Generic: `Instance, Any, Callable`\n",
    "- Custom traits: 2D/3D plots etc.\n"
   ]
  },
  {
   "cell_type": "markdown",
   "id": "bb904538",
   "metadata": {
    "lines_to_next_cell": 2,
    "slideshow": {
     "slide_type": "slide"
    }
   },
   "source": [
    "## `HasStrictTraits` vs. `HasStrictTraits`\n",
    "\n",
    "- Better to use `HasStrictTraits`\n",
    "- Will catch errors when you mistype or misspell an attribute\n",
    "- Will not allow setting any attribute not already declared\n",
    "\n"
   ]
  },
  {
   "cell_type": "markdown",
   "id": "0eae271c",
   "metadata": {
    "slideshow": {
     "slide_type": "slide"
    }
   },
   "source": [
    "## Notification example\n"
   ]
  },
  {
   "cell_type": "code",
   "execution_count": null,
   "id": "5f7fb681",
   "metadata": {},
   "outputs": [],
   "source": [
    "class Parent(HasStrictTraits):\n",
    "    last_name = Str('')\n",
    "\n",
    "\n",
    "class Child(HasStrictTraits):\n",
    "    age = Int\n",
    "    father = Instance(Parent)\n",
    "\n",
    "    def _age_changed(self, old, new):\n",
    "        print('Age changed from %s to %s ' % (old, new))\n",
    "\n",
    "    @observe('father.last_name')\n",
    "    def _dad_name_updated(self, event):\n",
    "        print('Father name changed to', self.father.last_name)\n"
   ]
  },
  {
   "cell_type": "code",
   "execution_count": null,
   "id": "f248a955",
   "metadata": {},
   "outputs": [],
   "source": [
    "dad = Parent(last_name='Zubizaretta')\n",
    "c = Child(father=dad)"
   ]
  },
  {
   "cell_type": "code",
   "execution_count": null,
   "id": "7df6db6d",
   "metadata": {},
   "outputs": [],
   "source": [
    "dad.last_name = 'Valderrama'"
   ]
  },
  {
   "cell_type": "markdown",
   "id": "bf19f52c",
   "metadata": {
    "slideshow": {
     "slide_type": "slide"
    }
   },
   "source": [
    "## Trait change notification\n",
    "\n",
    "- Static: `def _<trait_name>_changed()`\n",
    "- Decorator: `@observe('extended.trait.name')`\n",
    "\n",
    "- See documentation: https://docs.enthought.com/traits/traits_user_manual/notification.html\n"
   ]
  },
  {
   "cell_type": "markdown",
   "id": "6bd4fbdd",
   "metadata": {
    "slideshow": {
     "slide_type": "slide"
    }
   },
   "source": [
    "## Exercise\n",
    "\n",
    "- Modify the first example to produce the above example\n",
    "- Add a `first_name` trait\n",
    "- Add a `Bool` trait to specify if person is alive\n",
    "- Add an `Enum` for the gender of the child\n",
    "\n"
   ]
  },
  {
   "cell_type": "markdown",
   "id": "543377f8",
   "metadata": {
    "slideshow": {
     "slide_type": "slide"
    }
   },
   "source": [
    "## Solution\n"
   ]
  },
  {
   "cell_type": "code",
   "execution_count": null,
   "id": "2e6fa054",
   "metadata": {},
   "outputs": [],
   "source": [
    "from traits.api import Bool, Enum\n",
    "\n",
    "class Parent(HasStrictTraits):\n",
    "    last_name = Str('')\n",
    "\n",
    "\n",
    "class Child(HasStrictTraits):\n",
    "    age = Int\n",
    "    father = Instance(Parent)\n",
    "    first_name = Str('')\n",
    "    likes_queso = Bool(True)\n",
    "    handedness = Enum('right', 'left')\n",
    "\n",
    "    def _age_changed(self, old, new):\n",
    "        print('Age changed from %s to %s ' % (old, new))\n",
    "\n",
    "    @observe('father.last_name')\n",
    "    def _dad_name_updated(self, event):\n",
    "        print('Dad name', self.father.last_name)\n"
   ]
  },
  {
   "cell_type": "code",
   "execution_count": null,
   "id": "9de87c98",
   "metadata": {
    "lines_to_next_cell": 2
   },
   "outputs": [],
   "source": [
    "p = Parent(last_name='Ray')\n",
    "c = Child(age=21, father=p, first_name='Romano', handedness='right')"
   ]
  },
  {
   "cell_type": "markdown",
   "id": "f4efe08a",
   "metadata": {
    "slideshow": {
     "slide_type": "slide"
    }
   },
   "source": [
    "## Trait change event\n",
    "\n",
    "- Recall this"
   ]
  },
  {
   "cell_type": "code",
   "execution_count": null,
   "id": "ea2fd23c",
   "metadata": {},
   "outputs": [],
   "source": [
    "    @observe('father.last_name')\n",
    "    def _dad_name_updated(self, event):\n",
    "        print('Dad name', self.father.last_name)"
   ]
  },
  {
   "cell_type": "markdown",
   "id": "08be8895",
   "metadata": {},
   "source": [
    "- `event` is a `TraitChangeEvent` instance\n"
   ]
  },
  {
   "cell_type": "code",
   "execution_count": null,
   "id": "f44dd68d",
   "metadata": {
    "slideshow": {
     "slide_type": "slide"
    }
   },
   "outputs": [],
   "source": [
    "class Child(HasStrictTraits):\n",
    "    age = Int\n",
    "    father = Instance(Parent)\n",
    "    first_name = Str('')\n",
    "    likes_queso = Bool(True)\n",
    "    handedness = Enum('right', 'left')\n",
    "\n",
    "    def _age_changed(self, old, new):\n",
    "        print('Age changed from %s to %s ' % (old, new))\n",
    "\n",
    "    @observe('father.last_name')\n",
    "    def _dad_name_updated(self, event):\n",
    "        print(event.object, event.name, event.old, event.new)\n",
    "        print('Dad name', self.father.last_name)\n"
   ]
  },
  {
   "cell_type": "code",
   "execution_count": null,
   "id": "3622a877",
   "metadata": {},
   "outputs": [],
   "source": [
    "p = Parent(last_name='Ray')\n",
    "c = Child(age=21, father=p, first_name='Romano', handedness='right')"
   ]
  },
  {
   "cell_type": "code",
   "execution_count": null,
   "id": "156f7733",
   "metadata": {
    "lines_to_next_cell": 0
   },
   "outputs": [],
   "source": [
    "p.last_name = 'Ahmed'"
   ]
  },
  {
   "cell_type": "markdown",
   "id": "d2e6388f",
   "metadata": {},
   "source": [
    "\n"
   ]
  },
  {
   "cell_type": "markdown",
   "id": "8bb91b22",
   "metadata": {
    "slideshow": {
     "slide_type": "slide"
    }
   },
   "source": [
    "## Container traits\n",
    "\n",
    "- `List`, `Dict` and `Set`\n"
   ]
  },
  {
   "cell_type": "markdown",
   "id": "77540ac6",
   "metadata": {
    "slideshow": {
     "slide_type": "slide"
    }
   },
   "source": [
    "## Trait Lists\n",
    "\n"
   ]
  },
  {
   "cell_type": "code",
   "execution_count": null,
   "id": "4dfa270a",
   "metadata": {},
   "outputs": [],
   "source": [
    "from traits.api import List\n",
    "\n",
    "class Bowl(HasStrictTraits):\n",
    "    fruits = List(Str)\n",
    "\n",
    "    @observe(\"fruits\")\n",
    "    def _fruits_list_updated(self, event):\n",
    "        print(\"fruits list updated\", type(event))\n",
    "        print(event.old, event.new)\n",
    "\n",
    "    @observe(\"fruits.items\")\n",
    "    def _fruits_updated(self, event):\n",
    "        print(\"Fruits items changed\", type(event))\n",
    "        print(event.added, event.index, event.removed)\n"
   ]
  },
  {
   "cell_type": "code",
   "execution_count": null,
   "id": "ffbdbe48",
   "metadata": {},
   "outputs": [],
   "source": [
    "b = Bowl()\n",
    "b.fruits = ['apple']\n",
    "b.fruits.append('mango')"
   ]
  },
  {
   "cell_type": "markdown",
   "id": "6d88bf36",
   "metadata": {
    "slideshow": {
     "slide_type": "slide"
    }
   },
   "source": [
    "## Other Trait Events\n",
    "\n",
    "- `List` trait changes: `ListChangeEvent`\n",
    "- `Dict` trait changes: `DictChangeEvent`\n",
    "- `Set` trait changes: `SetChangeEvent`\n"
   ]
  },
  {
   "cell_type": "markdown",
   "id": "debbaf5b",
   "metadata": {
    "slideshow": {
     "slide_type": "slide"
    }
   },
   "source": [
    "## Some more useful traits\n",
    "\n",
    "- `File`, `Directory` and `Dict`\n",
    "- Useful for our application\n"
   ]
  },
  {
   "cell_type": "code",
   "execution_count": null,
   "id": "9dfd1f59",
   "metadata": {},
   "outputs": [],
   "source": [
    "from traits.api import Dict, Directory, File\n",
    "\n",
    "class Folder(HasStrictTraits):\n",
    "    root = Directory\n",
    "    files = List(File)\n",
    "    sizes = Dict"
   ]
  },
  {
   "cell_type": "markdown",
   "id": "b796369f",
   "metadata": {
    "lines_to_next_cell": 2,
    "slideshow": {
     "slide_type": "slide"
    }
   },
   "source": [
    "## Walk through\n",
    "\n",
    "- Here the dictionary can have any keys or values\n",
    "- Can use the `key_trait` and `value_trait` to specify them\n"
   ]
  },
  {
   "cell_type": "code",
   "execution_count": null,
   "id": "e1c904ab",
   "metadata": {},
   "outputs": [],
   "source": [
    "class Folder(HasStrictTraits):\n",
    "    root = Directory\n",
    "    files = List(File)\n",
    "    sizes = Dict(key_trait=Str, value_trait=Dict(Str, Int))"
   ]
  },
  {
   "cell_type": "code",
   "execution_count": null,
   "id": "4e694c56",
   "metadata": {},
   "outputs": [],
   "source": [
    "f = Folder(root='/tmp')"
   ]
  },
  {
   "cell_type": "markdown",
   "id": "0347ea6f",
   "metadata": {
    "slideshow": {
     "slide_type": "slide"
    }
   },
   "source": [
    "## Exercise\n",
    "\n",
    "Modify the above example so when you set `root`, it finds all the files in\n",
    "that directory and the file sizes and sets the appropriate traits.\n",
    "\n",
    "Hint: Use `os.listdir` and `os.path.getsize`\n"
   ]
  },
  {
   "cell_type": "code",
   "execution_count": null,
   "id": "dc6fbe0f",
   "metadata": {
    "lines_to_next_cell": 0
   },
   "outputs": [],
   "source": [
    "# Solution"
   ]
  },
  {
   "cell_type": "markdown",
   "id": "eb75758a",
   "metadata": {},
   "source": [
    "\n"
   ]
  },
  {
   "cell_type": "markdown",
   "id": "54fd569e",
   "metadata": {
    "slideshow": {
     "slide_type": "slide"
    }
   },
   "source": [
    "## Property traits\n",
    "\n",
    "- What if you have a quantity that is computed?\n",
    "- Use `Property` traits here\n",
    "- Use the `observe=` kwarg\n",
    "- Use `@cached_property` to cache output\n",
    "- Use the `_get_propname` and `_set_propname` (optional)\n"
   ]
  },
  {
   "cell_type": "code",
   "execution_count": null,
   "id": "d82cc76b",
   "metadata": {},
   "outputs": [],
   "source": [
    "from math import pi\n",
    "from traits.api import Range, Float, Property, cached_property\n",
    "\n",
    "class Circle(HasStrictTraits):\n",
    "    radius = Range(0.0, 1000.0)\n",
    "    area = Property(Float, observe='radius')\n",
    "\n",
    "    @cached_property\n",
    "    def _get_area(self):\n",
    "        print(\"computing area\")\n",
    "        return pi*self.radius**2"
   ]
  },
  {
   "cell_type": "code",
   "execution_count": null,
   "id": "8f2c2c2c",
   "metadata": {},
   "outputs": [],
   "source": [
    "c = Circle(radius=2)\n",
    "c.area"
   ]
  },
  {
   "cell_type": "code",
   "execution_count": null,
   "id": "11d4f829",
   "metadata": {},
   "outputs": [],
   "source": [
    "c.area"
   ]
  },
  {
   "cell_type": "markdown",
   "id": "03a2a4d0",
   "metadata": {
    "slideshow": {
     "slide_type": "slide"
    }
   },
   "source": [
    "## `Array` traits\n",
    "\n",
    "- Can handle numpy arrays of arbitrary shape\n",
    "- Can specify dtype, shape, and casting options using kwargs\n",
    "- Warning: cannot \"listen\" to changes inside the array\n",
    "- Simple example\n"
   ]
  },
  {
   "cell_type": "code",
   "execution_count": null,
   "id": "9a67f149",
   "metadata": {},
   "outputs": [],
   "source": [
    "import numpy as np\n",
    "from traits.api import Array, Range, observe\n",
    "\n",
    "class Beats(HasStrictTraits):\n",
    "    f1 = Range(1.0, 200.0, value=100)\n",
    "    f2 = Range(low=1.0, high=200.0, value=104)\n",
    "    signal = Array(dtype=float, shape=(None,))\n",
    "\n",
    "    @observe('f1, f2')\n",
    "    def update(self, event=None):\n",
    "        t = np.linspace(0, 1, 500)\n",
    "        pi = np.pi\n",
    "        self.signal = np.sin(2*pi*self.f1*t) + np.sin(2*pi*self.f2*t)"
   ]
  },
  {
   "cell_type": "code",
   "execution_count": null,
   "id": "8a38948e",
   "metadata": {
    "lines_to_next_cell": 0
   },
   "outputs": [],
   "source": [
    "b = Beats()\n",
    "b.f2 = 103"
   ]
  },
  {
   "cell_type": "markdown",
   "id": "adf52c07",
   "metadata": {
    "slideshow": {
     "slide_type": "slide"
    }
   },
   "source": [
    "## Setting default values\n",
    "\n",
    "- For simple cases, use the default of the trait\n",
    "- For more complex cases use a special method\n",
    "- A simple example\n"
   ]
  },
  {
   "cell_type": "code",
   "execution_count": null,
   "id": "28970321",
   "metadata": {
    "lines_to_next_cell": 2
   },
   "outputs": [],
   "source": [
    "import datetime\n",
    "\n",
    "from traits.api import HasStrictTraits, Date, Range\n",
    "\n",
    "class Thing(HasStrictTraits):\n",
    "    date = Date()\n",
    "    age = Int(12)\n",
    "\n",
    "    def _date_default(self):\n",
    "        print('default')\n",
    "        return datetime.datetime.today()"
   ]
  },
  {
   "cell_type": "code",
   "execution_count": null,
   "id": "cffea04e",
   "metadata": {},
   "outputs": [],
   "source": [
    "t = Thing()"
   ]
  },
  {
   "cell_type": "code",
   "execution_count": null,
   "id": "2bda85e1",
   "metadata": {},
   "outputs": [],
   "source": [
    "type(t.age)"
   ]
  },
  {
   "cell_type": "markdown",
   "id": "0996d132",
   "metadata": {
    "slideshow": {
     "slide_type": "slide"
    }
   },
   "source": [
    "## `Event` traits\n",
    "\n",
    "- Holds no value but can be set and be listened to\n"
   ]
  },
  {
   "cell_type": "code",
   "execution_count": null,
   "id": "c1347051",
   "metadata": {},
   "outputs": [],
   "source": [
    "from traits.api import Event, File, HasStrictTraits, Instance, observe, Str\n",
    "\n",
    "class DataFile(HasStrictTraits):\n",
    "    file = File\n",
    "    data_changed = Event\n",
    "\n",
    "\n",
    "class DataReader(HasStrictTraits):\n",
    "    file = Instance(DataFile)\n",
    "    content = Str\n",
    "\n",
    "    @observe(\"file.data_changed\")\n",
    "    def file_data_changed(self, event):\n",
    "        print(\"File data changed\")\n"
   ]
  },
  {
   "cell_type": "code",
   "execution_count": null,
   "id": "65feabb3",
   "metadata": {
    "lines_to_next_cell": 0
   },
   "outputs": [],
   "source": [
    "f = DataFile(file='/tmp/junk.dat')\n",
    "r = DataReader(file=f)"
   ]
  },
  {
   "cell_type": "code",
   "execution_count": null,
   "id": "de8a8ad7",
   "metadata": {},
   "outputs": [],
   "source": [
    "f.data_changed = True"
   ]
  },
  {
   "cell_type": "markdown",
   "id": "b61ac993",
   "metadata": {
    "slideshow": {
     "slide_type": "slide"
    }
   },
   "source": [
    "## Exercise time!\n",
    "\n",
    "- From the starting script (`stage1_starting_script/face_detect.py`), extract\n",
    "  an object that represents an image file.\n",
    "- The class for the object should:\n",
    "    - Be a traits model, i.e., inherit from `HasStrictTraits`, and, expose\n",
    "    - Attributes:\n",
    "        - `filepath`: the absolute path to the image file\n",
    "        - `metadata`: a dictionary storing EXIF data\n",
    "        - `data` a numpy array containing the RGB data\n",
    "        - `faces`: a list containing detected faces\n",
    "    - Methods:\n",
    "        `detect_faces`: returns the list of detected faces\n",
    "    - Be reactive:\n",
    "        - Ensure `metadata` and `data` are updated with `filepath` is modified\n",
    "- Copy `stage1_starting_script/face_detect.py` to `stage2.1_traited_script` and\n",
    "  work there\n",
    "- *Do not do any plotting in the model!*\n",
    "\n",
    "- Hint for computing RGB data:\n",
    "\n",
    "```python\n",
    "import numpy as np\n",
    "import PIL.Image\n",
    "\n",
    "with PIL.Image.open(filepath) as img:\n",
    "    data = np.asarray(img)\n",
    "```\n",
    "- Example images available at `ets_tutorial/sample_images` for testing\n"
   ]
  },
  {
   "cell_type": "markdown",
   "id": "378f662f",
   "metadata": {
    "slideshow": {
     "slide_type": "slide"
    }
   },
   "source": [
    "### Solution\n",
    "`stage2.1_traited_script/traited_face_detect.py`"
   ]
  },
  {
   "cell_type": "markdown",
   "id": "dd6fc870",
   "metadata": {
    "slideshow": {
     "slide_type": "slide"
    }
   },
   "source": [
    "## Exercise time!\n",
    "\n",
    "- Develop another traits model, one that represents a folder containing several\n",
    "  image files\n",
    "- The class for the object should expose:\n",
    "    - Attributes:\n",
    "        - `directory`: the absolute path to the folder\n",
    "        - `images`: a list of `ImageFile` instances from the previous exercise\n",
    "        - `data`: a pandas `DataFrame` to store metadata for each file in the folder\n",
    "    - Be reactive:\n",
    "        - Ensure `images` and `data` are updated when `directory` is modified\n",
    "    - Override `__init__` to ensure directory exists at object initialization\n",
    "    - Save work in `stage2.1_traited_script/image_folder.py`\n",
    "\n",
    "- Hints:\n",
    "    - Create a `DataFrame` from `List(Dict)`:\n",
    "    ```python\n",
    "    import pandas as pd\n",
    "    >>> records = [\n",
    "        {'A': 5, 'B': 0, 'C': 3, 'D': 3},\n",
    "        {'A': 7, 'B': 9, 'C': 3, 'D': 5},\n",
    "        {'A': 2, 'B': 4, 'C': 7, 'D': 6}\n",
    "    ]\n",
    "    >>> df = pd.DataFrame(records)\n",
    "       A  B  C  D\n",
    "    0  5  0  3  3\n",
    "    1  7  9  3  5\n",
    "    2  2  4  7  6\n",
    "    ```\n",
    "    - `os.path.isdir(directory)` to determine if `directory` is valid\n"
   ]
  },
  {
   "cell_type": "markdown",
   "id": "0a8c77cd",
   "metadata": {
    "slideshow": {
     "slide_type": "slide"
    }
   },
   "source": [
    "### Solution\n",
    "`stage2.1_traited_script/image_folder.py`"
   ]
  }
 ],
 "metadata": {
  "jupytext": {
   "formats": "ipynb,md"
  },
  "kernelspec": {
   "display_name": "Python 3",
   "language": "python",
   "name": "python3"
  }
 },
 "nbformat": 4,
 "nbformat_minor": 5
}
