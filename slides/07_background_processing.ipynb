{
 "cells": [
  {
   "cell_type": "markdown",
   "id": "c33a15af",
   "metadata": {
    "slideshow": {
     "slide_type": "slide"
    }
   },
   "source": [
    "## Sharing scientific tools: script to desktop application\n",
    "\n",
    "### Background processing with Traits Futures\n",
    "\n",
    "**Jonathan Rocher, Siddhant Wahal, Jason Chambless, Corran Webster, Prabhu Ramachandran**\n",
    "\n",
    "**SciPy 2022**\n"
   ]
  },
  {
   "cell_type": "markdown",
   "id": "99747c70",
   "metadata": {
    "slideshow": {
     "slide_type": "slide"
    }
   },
   "source": [
    "## Traits Futures:\n",
    "\n",
    "- Common problems with GUI frameworks:\n",
    "    - GUIs are unresponsive during heavy computation\n",
    "    - GUI toolkits generally require that widgets are only updated from the\n",
    "      thread from which they were created\n",
    "- Traits Futures solves both these problems:\n",
    "    - keeping the UI responsive\n",
    "    - safely update the UI in response to calculation results\n",
    "- Dispatching a background task returns a `future` object which provides:\n",
    "    - information about job status (e.g., job partially finished, completed,\n",
    "      failed)\n",
    "    - access to the job result\n",
    "- Incoming results arrive as trait changes on the main thread, ensuring thread\n",
    "  safety\n",
    "- Supports simple callbacks, iterations, and progress-reporting functions\n",
    "- Supports thread pools (default) and process pools\n"
   ]
  },
  {
   "cell_type": "markdown",
   "id": "6c6c4653",
   "metadata": {
    "slideshow": {
     "slide_type": "slide"
    }
   },
   "source": [
    "## Traits Futures\n",
    "- Let's dive in with an example\n",
    "- Installation:\n",
    "    - `edm install -e ets_tutorial traits_futures`\n",
    "    - Conda/pip: Activate virtual environment and `pip install traits_futures`\n"
   ]
  }
 ],
 "metadata": {
  "jupytext": {
   "formats": "ipynb,md"
  },
  "kernelspec": {
   "display_name": "Python 3 (ipykernel)",
   "language": "python",
   "name": "python3"
  }
 },
 "nbformat": 4,
 "nbformat_minor": 5
}
